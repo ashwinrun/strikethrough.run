{
 "cells": [
  {
   "cell_type": "markdown",
   "id": "dd5131b3",
   "metadata": {},
   "source": [
    "## Parsing a word document\n",
    "python-docx documentation: https://python-docx.readthedocs.io/en/latest/"
   ]
  },
  {
   "cell_type": "code",
   "execution_count": 9,
   "id": "6e40ee41",
   "metadata": {},
   "outputs": [],
   "source": [
    "from docx import Document\n",
    "from io import BytesIO\n",
    "from random import randint"
   ]
  },
  {
   "cell_type": "code",
   "execution_count": 2,
   "id": "8a440604",
   "metadata": {},
   "outputs": [],
   "source": [
    "with open(\"AA final paper copy.docx\", \"rb\") as f:\n",
    "    source_stream = BytesIO(f.read())"
   ]
  },
  {
   "cell_type": "code",
   "execution_count": 3,
   "id": "533339d1",
   "metadata": {},
   "outputs": [],
   "source": [
    "document = Document(source_stream)"
   ]
  },
  {
   "cell_type": "code",
   "execution_count": 4,
   "id": "718f1110",
   "metadata": {},
   "outputs": [
    {
     "data": {
      "text/plain": [
       "\"“The Endless Frontiers [sic] Act is a downpayment for future generations of American technological leadership, and I'm proud to introduce it on a bipartisan basis.” – Representative Mike Gallagher (2020).\\n\\n“The point is that founding and growing a company is fundamentally an act of exploration and colonization… Google took web search… Twitter colonized real-time status updates. Quora is attempting to colonize Q&A… Facebook of course colonized online identity.” – Kevin Simler (2012).\""
      ]
     },
     "execution_count": 4,
     "metadata": {},
     "output_type": "execute_result"
    }
   ],
   "source": [
    "document.paragraphs[7].text"
   ]
  },
  {
   "cell_type": "markdown",
   "id": "79eb821e",
   "metadata": {},
   "source": [
    "Some notes\n",
    "- There is not much existing support for footnotes using scripts\n",
    "- https://github.com/ShayHill/docx2python seems to support footnotes but doesn't seem super developed / either we can directly adapt this, or create our own version of it"
   ]
  },
  {
   "cell_type": "markdown",
   "id": "013630a7",
   "metadata": {},
   "source": [
    "## Editing a word document"
   ]
  },
  {
   "cell_type": "code",
   "execution_count": 5,
   "id": "82e4f240",
   "metadata": {},
   "outputs": [
    {
     "data": {
      "text/plain": [
       "<docx.text.paragraph.Paragraph at 0x7f840f79a350>"
      ]
     },
     "execution_count": 5,
     "metadata": {},
     "output_type": "execute_result"
    }
   ],
   "source": [
    "# Add a paragraph\n",
    "document.add_paragraph(\"Random paragraph\")\n",
    "# document.save(\"AA_edited.docx\")"
   ]
  },
  {
   "cell_type": "code",
   "execution_count": 6,
   "id": "f79ebe22",
   "metadata": {},
   "outputs": [],
   "source": [
    "# edit a paragraph\n",
    "document.paragraphs[7].text = \"sdkuhagjsdkfshdakj\" # this works, although perhaps there is a more proper way of doing this?\n",
    "document.save(\"AA_edited.docx\")"
   ]
  },
  {
   "cell_type": "code",
   "execution_count": 7,
   "id": "0d184708",
   "metadata": {},
   "outputs": [],
   "source": [
    "# can insert paragraphs in the middle similarly"
   ]
  },
  {
   "cell_type": "code",
   "execution_count": 8,
   "id": "2602fa56",
   "metadata": {},
   "outputs": [
    {
     "ename": "AttributeError",
     "evalue": "'Document' object has no attribute 'body'",
     "output_type": "error",
     "traceback": [
      "\u001b[0;31m---------------------------------------------------------------------------\u001b[0m",
      "\u001b[0;31mAttributeError\u001b[0m                            Traceback (most recent call last)",
      "\u001b[0;32m/var/folders/_p/c9sc_dy93p75pcs0ttc9b_2h0000gn/T/ipykernel_3332/2822425107.py\u001b[0m in \u001b[0;36m<module>\u001b[0;34m\u001b[0m\n\u001b[0;32m----> 1\u001b[0;31m \u001b[0mprint\u001b[0m\u001b[0;34m(\u001b[0m\u001b[0mdocument\u001b[0m\u001b[0;34m.\u001b[0m\u001b[0mbody\u001b[0m\u001b[0;34m)\u001b[0m\u001b[0;34m\u001b[0m\u001b[0;34m\u001b[0m\u001b[0m\n\u001b[0m",
      "\u001b[0;31mAttributeError\u001b[0m: 'Document' object has no attribute 'body'"
     ]
    }
   ],
   "source": [
    "print(document.body)"
   ]
  },
  {
   "cell_type": "markdown",
   "id": "12bba60b",
   "metadata": {},
   "source": [
    "## Citation fixer class"
   ]
  },
  {
   "cell_type": "code",
   "execution_count": 18,
   "id": "52ecc61a",
   "metadata": {},
   "outputs": [],
   "source": [
    "class CitationFixer:\n",
    "    def __init__(self):\n",
    "        pass\n",
    "    def read_document(self, path):\n",
    "        with open(path, 'rb') as f:\n",
    "            source_stream = BytesIO(f.read())\n",
    "        self.document = Document(source_stream)\n",
    "        self.citations = []\n",
    "    def get_citations(self):\n",
    "        for i in range(len(self.document.paragraphs)):\n",
    "            text = self.document.paragraphs[i].text\n",
    "            if len(text) > 6:\n",
    "                l = randint(0, len(text) - 6)\n",
    "                r = l + 5\n",
    "                self.citations.append((i, l, r))\n",
    "    def fix_citations(self):\n",
    "        for (i, l, r) in self.citations:\n",
    "            text = self.document.paragraphs[i].text\n",
    "            self.document.paragraphs[i].text = text[:l] + 'a' * (r-l+1) + text[r+1:]\n",
    "    def save_document(self, path):\n",
    "        self.document.save(path)"
   ]
  },
  {
   "cell_type": "code",
   "execution_count": 19,
   "id": "26d7b340",
   "metadata": {},
   "outputs": [],
   "source": [
    "citation_fixer = CitationFixer()\n",
    "citation_fixer.read_document(\"AA final paper copy.docx\")\n",
    "citation_fixer.get_citations()\n",
    "citation_fixer.fix_citations()\n",
    "citation_fixer.save_document(\"AA final paper copy_fixed.docx\")"
   ]
  },
  {
   "cell_type": "code",
   "execution_count": null,
   "id": "963a63f0",
   "metadata": {},
   "outputs": [],
   "source": []
  }
 ],
 "metadata": {
  "kernelspec": {
   "display_name": "Python 3 (ipykernel)",
   "language": "python",
   "name": "python3"
  },
  "language_info": {
   "codemirror_mode": {
    "name": "ipython",
    "version": 3
   },
   "file_extension": ".py",
   "mimetype": "text/x-python",
   "name": "python",
   "nbconvert_exporter": "python",
   "pygments_lexer": "ipython3",
   "version": "3.7.15"
  }
 },
 "nbformat": 4,
 "nbformat_minor": 5
}
